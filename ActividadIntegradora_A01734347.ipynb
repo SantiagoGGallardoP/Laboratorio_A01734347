{
  "nbformat": 4,
  "nbformat_minor": 0,
  "metadata": {
    "colab": {
      "provenance": []
    },
    "kernelspec": {
      "name": "python3",
      "display_name": "Python 3"
    },
    "language_info": {
      "name": "python"
    }
  },
  "cells": [
    {
      "cell_type": "code",
      "execution_count": null,
      "metadata": {
        "id": "LPCsH3cHFCOB"
      },
      "outputs": [],
      "source": [
        "!pip install streamlit\n",
        "import streamlit as st\n",
        "import pandas as pd\n"
      ]
    },
    {
      "cell_type": "code",
      "source": [
        "st.title(\"Police Incident Reports from 2018 to 2020 ins San Francisco\")\n",
        "\n",
        "df= pd.read_csv(\"https://drive.google.com/file/d/11oLcKiW8SgCOp3tGiQCYuRG7pLL_J-Zf/view?usp=drive_link\")\n",
        "\n",
        "st.markdown(\"The data shown below belongs to incident reports in the city of San Francisco, from the year 2018 to 2020, with details from each case such as date, day of the week, police district, neighborhood in which it happened, type of incident in category and subcategory, exact location and resolution.\")\n",
        "\n",
        "mapa=pd.DataFrame()\n",
        "mapa=mapa.dropna()\n",
        "st.map(mapa.astype(int))"
      ],
      "metadata": {
        "id": "nUyq2oVbF23J"
      },
      "execution_count": null,
      "outputs": []
    }
  ]
}